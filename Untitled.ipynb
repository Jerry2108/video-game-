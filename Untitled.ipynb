{
 "cells": [
  {
   "cell_type": "code",
   "execution_count": null,
   "metadata": {},
   "outputs": [],
   "source": [
    "import pandas as pd\n",
    "import numpy as np\n",
    "import nltk\n",
    "#task 1A\n",
    "abt_df = pd.read_csv(\"abt_small.csv\", encoding =  \"ISO-8859-1\")\n",
    "buy_df = pd.read_csv(\"buy_small.csv\")\n",
    "abt_df.sort_values(by = ['name'], inplace = True)\n",
    "\n",
    "buy_df.sort_values(by = ['name'], inplace = True)\n",
    "\n",
    "#left_on = [\"idBuy\", \"name\", \"description\", \"manufacture\", \"price\"]\n",
    "#right_on = [\"idABT\", \"name\", \"description\", \"price\"]\n",
    "#matched_results = fuzzymatcher.fuzzy_left_join(buy_df, abt_df, left_on, right_on, left_id_col='idBuy', right_id_col='idABT')\n",
    "myDict = {}\n",
    "\n"
   ]
  },
  {
   "cell_type": "code",
   "execution_count": null,
   "metadata": {},
   "outputs": [],
   "source": []
  },
  {
   "cell_type": "code",
   "execution_count": null,
   "metadata": {},
   "outputs": [],
   "source": []
  },
  {
   "cell_type": "code",
   "execution_count": null,
   "metadata": {},
   "outputs": [],
   "source": []
  },
  {
   "cell_type": "code",
   "execution_count": null,
   "metadata": {},
   "outputs": [],
   "source": []
  },
  {
   "cell_type": "code",
   "execution_count": null,
   "metadata": {},
   "outputs": [],
   "source": []
  },
  {
   "cell_type": "code",
   "execution_count": null,
   "metadata": {},
   "outputs": [],
   "source": []
  },
  {
   "cell_type": "code",
   "execution_count": null,
   "metadata": {},
   "outputs": [],
   "source": []
  }
 ],
 "metadata": {
  "kernelspec": {
   "display_name": "Python 3",
   "language": "python",
   "name": "python3"
  },
  "language_info": {
   "codemirror_mode": {
    "name": "ipython",
    "version": 3
   },
   "file_extension": ".py",
   "mimetype": "text/x-python",
   "name": "python",
   "nbconvert_exporter": "python",
   "pygments_lexer": "ipython3",
   "version": "3.8.3"
  }
 },
 "nbformat": 4,
 "nbformat_minor": 4
}
